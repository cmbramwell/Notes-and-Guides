{
 "cells": [
  {
   "cell_type": "markdown",
   "metadata": {},
   "source": [
    "# AWS - Spark, Python, Jupyter Notebook Guide"
   ]
  },
  {
   "cell_type": "markdown",
   "metadata": {},
   "source": [
    "This is a step by step guide that will walk you through setting up Spark, Python, and the Jupyter Notebook on AWS EC2. It should take about 15 minutes to complete from start to finish.\n",
    "\n"
   ]
  },
  {
   "cell_type": "markdown",
   "metadata": {},
   "source": [
    "## Step 1 - Creat Amazon EC2 Instance"
   ]
  },
  {
   "cell_type": "markdown",
   "metadata": {},
   "source": [
    "Use all the default settings, except set All Traffic instead of SSH when editing the Security of the instance."
   ]
  },
  {
   "cell_type": "markdown",
   "metadata": {},
   "source": [
    "## Step 2 - SSH into that Instance"
   ]
  },
  {
   "cell_type": "markdown",
   "metadata": {},
   "source": [
    "https://docs.aws.amazon.com/AWSEC2/latest/UserGuide/AccessingInstancesLinux.html"
   ]
  },
  {
   "cell_type": "raw",
   "metadata": {},
   "source": [
    "$ chmod 400 /path/my-key-pair.pem"
   ]
  },
  {
   "cell_type": "raw",
   "metadata": {},
   "source": [
    "$ ssh -i /path/my-key-pair.pem ubuntu@ec2-user@ec2-198-51-100-1.compute-1.amazonaws.com"
   ]
  },
  {
   "cell_type": "markdown",
   "metadata": {},
   "source": [
    "## Step 3 - Download and Install Anaconda"
   ]
  },
  {
   "cell_type": "raw",
   "metadata": {},
   "source": [
    "$ wget http://repo.continuum.io/archive/Anaconda3-4.1.1-Linux-x86_64.sh\n",
    "$ bash /home/ubuntu/Anaconda3–4.1.1-Linux-x86_64.sh"
   ]
  },
  {
   "cell_type": "markdown",
   "metadata": {},
   "source": [
    "## Step 4 - Check which Python you are using"
   ]
  },
  {
   "cell_type": "raw",
   "metadata": {},
   "source": [
    "$ which python"
   ]
  },
  {
   "cell_type": "markdown",
   "metadata": {},
   "source": [
    "Change to the Anaconda version of Python"
   ]
  },
  {
   "cell_type": "raw",
   "metadata": {},
   "source": [
    "$ source .bashrc"
   ]
  },
  {
   "cell_type": "raw",
   "metadata": {},
   "source": [
    "$ which python"
   ]
  },
  {
   "cell_type": "markdown",
   "metadata": {},
   "source": [
    "## Step 5 - Configure Jupyter Notebook"
   ]
  },
  {
   "cell_type": "raw",
   "metadata": {},
   "source": [
    "$ jupyter notebook --generate-config"
   ]
  },
  {
   "cell_type": "markdown",
   "metadata": {},
   "source": [
    "## Step 6 - Create Certifications"
   ]
  },
  {
   "cell_type": "raw",
   "metadata": {},
   "source": [
    "$ mkdir certs\n",
    "$ cd certs\n",
    "$ sudo openssl req -x509 -nodes -days 365 -newkey rsa:1024 -keyout mycert.pem -out mycert.pem"
   ]
  },
  {
   "cell_type": "markdown",
   "metadata": {},
   "source": [
    "Fill out requested info to best of your ability."
   ]
  },
  {
   "cell_type": "markdown",
   "metadata": {},
   "source": [
    "## Step 7 - Edit Configuration File"
   ]
  },
  {
   "cell_type": "raw",
   "metadata": {},
   "source": [
    "$ cd ~/.jupyter/\n",
    "$ vi jupyter_notebook_config.py"
   ]
  },
  {
   "cell_type": "markdown",
   "metadata": {},
   "source": [
    "Press i on the keyboard to insert the following at the top of the file."
   ]
  },
  {
   "cell_type": "raw",
   "metadata": {},
   "source": [
    "c = get_config()\n",
    "\n",
    "# Notebook config this is where you saved your pem cert\n",
    "c.NotebookApp.certfile = u'/home/ubuntu/certs/mycert.pem' \n",
    "# Run on all IP addresses of your instance\n",
    "c.NotebookApp.ip = '*'\n",
    "# Don't open browser by default\n",
    "c.NotebookApp.open_browser = False  \n",
    "# Fix port to 8888\n",
    "c.NotebookApp.port = 8888"
   ]
  },
  {
   "cell_type": "markdown",
   "metadata": {},
   "source": [
    "Press esc to exit insert mode. Now, type :wq to write and quit editor."
   ]
  },
  {
   "cell_type": "markdown",
   "metadata": {},
   "source": [
    "## Step 8 - Check that the Jupyter Notebook is working"
   ]
  },
  {
   "cell_type": "raw",
   "metadata": {},
   "source": [
    "$ jupyter notebook"
   ]
  },
  {
   "cell_type": "markdown",
   "metadata": {},
   "source": [
    "https://ec2-xx-xx-xxx-xxx.us-west-2.compute.amazonaws.com:8888"
   ]
  },
  {
   "cell_type": "markdown",
   "metadata": {},
   "source": [
    "Check that it is on the right port and push Ctrl+c to quit Jupyter."
   ]
  },
  {
   "cell_type": "markdown",
   "metadata": {},
   "source": [
    "## Step 9 - Install Java"
   ]
  },
  {
   "cell_type": "raw",
   "metadata": {},
   "source": [
    "$ cd"
   ]
  },
  {
   "cell_type": "raw",
   "metadata": {},
   "source": [
    "$ sudo apt-get update"
   ]
  },
  {
   "cell_type": "raw",
   "metadata": {},
   "source": [
    "$ sudo apt-get install default-jre"
   ]
  },
  {
   "cell_type": "raw",
   "metadata": {},
   "source": [
    "$ java -version"
   ]
  },
  {
   "cell_type": "markdown",
   "metadata": {},
   "source": [
    "## Step 10 - Install Scala"
   ]
  },
  {
   "cell_type": "raw",
   "metadata": {},
   "source": [
    "$ sudo apt-get install scala"
   ]
  },
  {
   "cell_type": "raw",
   "metadata": {},
   "source": [
    "$ scala -version"
   ]
  },
  {
   "cell_type": "markdown",
   "metadata": {},
   "source": [
    "## Step 11 - Install py4j"
   ]
  },
  {
   "cell_type": "raw",
   "metadata": {},
   "source": [
    "$ export PATH=$PATH:$HOME/anaconda3/bin\n",
    "$ conda install pip\n",
    "$ which pip\n",
    "$ pip install py4j"
   ]
  },
  {
   "cell_type": "markdown",
   "metadata": {},
   "source": [
    "## Step 12 - Install Spark and Hadoop"
   ]
  },
  {
   "cell_type": "raw",
   "metadata": {},
   "source": [
    "$ wget http://archive.apache.org/dist/spark/spark-2.0.0/spark-2.0.0-bin-hadoop2.7.tgz\n",
    "$ sudo tar -zxvf spark-2.0.0-bin-hadoop2.7.tgz"
   ]
  },
  {
   "cell_type": "markdown",
   "metadata": {},
   "source": [
    "## Step 13 - Tell Python where to find Spark"
   ]
  },
  {
   "cell_type": "raw",
   "metadata": {},
   "source": [
    "$ export SPARK_HOME='/home/ubuntu/spark-2.0.0-bin-hadoop2.7'\n",
    "$ export PATH=$SPARK_HOME:$PATH\n",
    "$ export PYTHONPATH=$SPARK_HOME/python:$PYTHONPATH"
   ]
  },
  {
   "cell_type": "markdown",
   "metadata": {},
   "source": [
    "## Step 14 - Launch Jupyter Notebook"
   ]
  },
  {
   "cell_type": "raw",
   "metadata": {},
   "source": [
    "$ jupyter notebook"
   ]
  },
  {
   "cell_type": "raw",
   "metadata": {},
   "source": [
    "from pyspark import SparkContext\n",
    "sc = SparkContext()"
   ]
  }
 ],
 "metadata": {
  "kernelspec": {
   "display_name": "Python 3",
   "language": "python",
   "name": "python3"
  },
  "language_info": {
   "codemirror_mode": {
    "name": "ipython",
    "version": 3
   },
   "file_extension": ".py",
   "mimetype": "text/x-python",
   "name": "python",
   "nbconvert_exporter": "python",
   "pygments_lexer": "ipython3",
   "version": "3.6.3"
  }
 },
 "nbformat": 4,
 "nbformat_minor": 2
}
